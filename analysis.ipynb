{
 "cells": [
  {
   "cell_type": "code",
   "execution_count": 5,
   "metadata": {},
   "outputs": [],
   "source": [
    "import nba_api\n",
    "\n"
   ]
  },
  {
   "cell_type": "code",
   "execution_count": 10,
   "metadata": {},
   "outputs": [
    {
     "name": "stdout",
     "output_type": "stream",
     "text": [
      "  SEASON_ID  Player_ID     Game_ID     GAME_DATE      MATCHUP WL  MIN  FGM  \\\n",
      "0     22023       2544  0022300848  FEB 28, 2024    LAL @ LAC  W   37   13   \n",
      "1     22023       2544  0022300818  FEB 25, 2024    LAL @ PHX  L   37   12   \n",
      "2     22023       2544  0022300813  FEB 23, 2024  LAL vs. SAS  W   34   13   \n",
      "3     22023       2544  0022300776  FEB 13, 2024  LAL vs. DET  W   31    9   \n",
      "4     22023       2544  0022300747  FEB 09, 2024  LAL vs. NOP  W   38    6   \n",
      "\n",
      "   FGA  FG_PCT  ...  DREB  REB  AST  STL  BLK  TOV  PF  PTS  PLUS_MINUS  \\\n",
      "0   21   0.619  ...     5    6    8    0    2    3   2   34          11   \n",
      "1   19   0.632  ...     6    7   12    2    1    3   3   28          -8   \n",
      "2   22   0.591  ...     6    7    9    1    0    2   0   30          21   \n",
      "3   15   0.600  ...     1    1    8    0    0    4   0   25           9   \n",
      "4   13   0.462  ...     3    4   14    1    1    2   2   21          15   \n",
      "\n",
      "   VIDEO_AVAILABLE  \n",
      "0                1  \n",
      "1                1  \n",
      "2                1  \n",
      "3                1  \n",
      "4                1  \n",
      "\n",
      "[5 rows x 27 columns]\n"
     ]
    }
   ],
   "source": [
    "from nba_api.stats.static import players\n",
    "from nba_api.stats.endpoints import playergamelog\n",
    "\n",
    "# Get player dictionary\n",
    "player_dict = players.get_players()\n",
    "\n",
    "# Find player by name\n",
    "lebron = [player for player in player_dict if player['full_name'] == 'LeBron James'][0]\n",
    "\n",
    "# Query player's game log (for a specific season, e.g., 2021-22)\n",
    "gamelog = playergamelog.PlayerGameLog(player_id=lebron['id'], season='2023')\n",
    "df = gamelog.get_data_frames()[0]\n",
    "\n",
    "print(df.head())\n"
   ]
  },
  {
   "cell_type": "code",
   "execution_count": 11,
   "metadata": {},
   "outputs": [
    {
     "name": "stdout",
     "output_type": "stream",
     "text": [
      "Los Angeles Lakers average points per game in 2023-24: 116.90\n"
     ]
    }
   ],
   "source": [
    "from nba_api.stats.static import teams\n",
    "from nba_api.stats.endpoints import teamgamelog\n",
    "import pandas as pd\n",
    "\n",
    "def get_team_id(team_name):\n",
    "    \"\"\"\n",
    "    Returns the team ID for a given team name.\n",
    "    \"\"\"\n",
    "    nba_teams = teams.get_teams()\n",
    "    for team in nba_teams:\n",
    "        if team['full_name'].lower() == team_name.lower():\n",
    "            return team['id']\n",
    "    return None\n",
    "\n",
    "def average_points_per_game(team_name, season):\n",
    "    \"\"\"\n",
    "    Prints the average points per game for a given team and season.\n",
    "    \"\"\"\n",
    "    team_id = get_team_id(team_name)\n",
    "    if team_id is None:\n",
    "        print(\"Team not found.\")\n",
    "        return\n",
    "    \n",
    "    game_log = teamgamelog.TeamGameLog(team_id=team_id, season=season)\n",
    "    game_log_df = game_log.get_data_frames()[0]\n",
    "    \n",
    "    # Calculate average points\n",
    "    average_points = game_log_df['PTS'].mean()\n",
    "    print(f\"{team_name} average points per game in {season}: {average_points:.2f}\")\n",
    "\n",
    "# Example usage\n",
    "team_name = input(\"Enter team name (e.g., 'Los Angeles Lakers'): \")\n",
    "season = input(\"Enter season (format YYYY-YY, e.g., '2021-22'): \")\n",
    "\n",
    "average_points_per_game(team_name, season)\n"
   ]
  },
  {
   "cell_type": "code",
   "execution_count": 17,
   "metadata": {},
   "outputs": [
    {
     "name": "stdout",
     "output_type": "stream",
     "text": [
      "Average points scored by Boston Celtics against Los Angeles Lakers in 2021-22: 116.00\n"
     ]
    }
   ],
   "source": [
    "def average_points_against_team(team_name, opponent_team_name, season):\n",
    "    \"\"\"\n",
    "    Calculates and prints the average points per game for a given team against another team in a specified season.\n",
    "    \"\"\"\n",
    "    team_id = get_team_id(team_name)\n",
    "    opponent_team_id = get_team_id(opponent_team_name)\n",
    "    \n",
    "    if team_id is None or opponent_team_id is None:\n",
    "        print(\"One of the teams was not found.\")\n",
    "        return\n",
    "    \n",
    "    # Find games between the two teams\n",
    "    game_finder = leaguegamefinder.LeagueGameFinder(team_id_nullable=team_id, season_nullable=season)\n",
    "    games_df = game_finder.get_data_frames()[0]\n",
    "    \n",
    "    # Ensure correct team abbreviations are used\n",
    "    team_abbreviation = [team['abbreviation'] for team in teams.get_teams() if team['id'] == team_id][0]\n",
    "    opponent_team_abbreviation = [team['abbreviation'] for team in teams.get_teams() if team['id'] == opponent_team_id][0]\n",
    "    \n",
    "    # Filter games against the opponent team\n",
    "    games_against_opponent = games_df[games_df['MATCHUP'].str.contains(opponent_team_abbreviation)]\n",
    "    \n",
    "    # Calculate average points\n",
    "    if not games_against_opponent.empty:\n",
    "        average_points = games_against_opponent['PTS'].mean()\n",
    "        print(f\"Average points scored by {team_name} against {opponent_team_name} in {season}: {average_points:.2f}\")\n",
    "    else:\n",
    "        print(f\"No games found between {team_name} and {opponent_team_name} in {season}.\")\n",
    "\n",
    "# Example usage\n",
    "team_name = \"Boston Celtics\"\n",
    "opponent_team_name = \"Los Angeles Lakers\"\n",
    "season = \"2021-22\"\n",
    "\n",
    "average_points_against_team(team_name, opponent_team_name, season)\n"
   ]
  },
  {
   "cell_type": "markdown",
   "metadata": {},
   "source": [
    "## Team Performance Metrics "
   ]
  },
  {
   "cell_type": "code",
   "execution_count": 1,
   "metadata": {},
   "outputs": [],
   "source": [
    "from nba_api.stats.static import teams\n",
    "from nba_api.stats.endpoints import teamyearbyyearstats\n",
    "import pandas as pd\n"
   ]
  },
  {
   "cell_type": "code",
   "execution_count": 2,
   "metadata": {},
   "outputs": [],
   "source": [
    "# get Team ID\n",
    "def get_team_id(team_name):\n",
    "    nba_teams = teams.get_teams()\n",
    "    for team in nba_teams:\n",
    "        if team['full_name'].lower() == team_name.lower():\n",
    "            return team['id']\n",
    "    return None\n"
   ]
  },
  {
   "cell_type": "code",
   "execution_count": 6,
   "metadata": {},
   "outputs": [],
   "source": [
    "from nba_api.stats.endpoints import leaguedashteamstats\n",
    "\n",
    "def get_team_performance_metrics_v2(team_name, season):\n",
    "    # Convert season to season_id format (e.g., \"2021-22\" to \"2021\")\n",
    "    season_id = season.split('-')[0]\n",
    "    \n",
    "    # Fetch team stats\n",
    "    team_stats = leaguedashteamstats.LeagueDashTeamStats(season=season_id, measure_type_detailed_defense='Base')\n",
    "    team_stats_df = team_stats.get_data_frames()[0]\n",
    "\n",
    "    # Find the team row\n",
    "    team_row = team_stats_df[team_stats_df['TEAM_NAME'].str.lower() == team_name.lower()]\n",
    "\n",
    "    if team_row.empty:\n",
    "        print(f\"No data found for {team_name} in {season}.\")\n",
    "        return\n",
    "\n",
    "    # Extracting metrics\n",
    "    metrics_dict = {\n",
    "        'Points Per Game (PPG)': team_row['PTS'].values[0],\n",
    "        'Field Goal Percentage (FG%)': team_row['FG_PCT'].values[0],\n",
    "        '3-Point Percentage (3P%)': team_row['FG3_PCT'].values[0],\n",
    "        'Rebounds Per Game (RPG)': team_row['REB'].values[0],\n",
    "        'Assists Per Game (APG)': team_row['AST'].values[0],\n",
    "        'Turnovers Per Game (TOPG)': team_row['TOV'].values[0],\n",
    "        'Points Allowed Per Game (PAPG)': team_row['PTS_AGAINST'].values[0] if 'PTS_AGAINST' in team_row else 'N/A'\n",
    "    }\n",
    "\n",
    "    return metrics_dict\n"
   ]
  },
  {
   "cell_type": "code",
   "execution_count": 8,
   "metadata": {},
   "outputs": [
    {
     "name": "stdout",
     "output_type": "stream",
     "text": [
      "No data found for Los Angeles Lakers in 2022-23.\n"
     ]
    }
   ],
   "source": [
    "team_name = \"Los Angeles Lakers\"  # Example team\n",
    "season = \"2022-23\"  # Example season\n",
    "metrics = get_team_performance_metrics_v2(team_name, season)\n",
    "if metrics:\n",
    "    for metric, value in metrics.items():\n",
    "        print(f\"{metric}: {value}\")\n"
   ]
  },
  {
   "cell_type": "code",
   "execution_count": 13,
   "metadata": {},
   "outputs": [
    {
     "name": "stdout",
     "output_type": "stream",
     "text": [
      "Points Per Game (PPG): 116.90\n",
      "Field Goal Percentage (FG%): 0.50\n",
      "3-Point Percentage (3P%): 0.37\n",
      "Rebounds Per Game (RPG): 42.52\n",
      "Assists Per Game (APG): 28.47\n",
      "Turnovers Per Game (TOPG): 13.75\n"
     ]
    }
   ],
   "source": [
    "def get_team_performance_metrics_simple(season):\n",
    "    # Fetching team stats for the given season\n",
    "    team_stats = leaguedashteamstats.LeagueDashTeamStats(season=season)\n",
    "    team_stats_df = team_stats.get_data_frames()[0]\n",
    "    \n",
    "    # Filter for Los Angeles Lakers\n",
    "    lakers_stats = team_stats_df[team_stats_df['TEAM_NAME'] == 'Los Angeles Lakers']\n",
    "    \n",
    "    if lakers_stats.empty:\n",
    "        print(f\"No data found for Los Angeles Lakers in {season}.\")\n",
    "    else:\n",
    "        games_played = lakers_stats['GP'].values[0]\n",
    "        total_points = lakers_stats['PTS'].values[0]\n",
    "        total_rebounds = lakers_stats['REB'].values[0]\n",
    "        total_assists = lakers_stats['AST'].values[0]\n",
    "        total_turnovers = lakers_stats['TOV'].values[0]\n",
    "\n",
    "        # Calculate the average stats per game\n",
    "        ppg = total_points / games_played if games_played else 0\n",
    "        rpg = total_rebounds / games_played if games_played else 0\n",
    "        apg = total_assists / games_played if games_played else 0\n",
    "        topg = total_turnovers / games_played if games_played else 0\n",
    "\n",
    "        metrics_dict = {\n",
    "            'Points Per Game (PPG)': ppg,\n",
    "            'Field Goal Percentage (FG%)': lakers_stats['FG_PCT'].values[0],\n",
    "            '3-Point Percentage (3P%)': lakers_stats['FG3_PCT'].values[0],\n",
    "            'Rebounds Per Game (RPG)': rpg,\n",
    "            'Assists Per Game (APG)': apg,\n",
    "            'Turnovers Per Game (TOPG)': topg,\n",
    "        }\n",
    "        for metric, value in metrics_dict.items():\n",
    "            print(f\"{metric}: {value:.2f}\")\n",
    "\n",
    "# Example usage\n",
    "season = \"2023-24\"  # Example season\n",
    "get_team_performance_metrics_simple(season)\n"
   ]
  },
  {
   "cell_type": "markdown",
   "metadata": {},
   "source": []
  }
 ],
 "metadata": {
  "kernelspec": {
   "display_name": "venv",
   "language": "python",
   "name": "python3"
  },
  "language_info": {
   "codemirror_mode": {
    "name": "ipython",
    "version": 3
   },
   "file_extension": ".py",
   "mimetype": "text/x-python",
   "name": "python",
   "nbconvert_exporter": "python",
   "pygments_lexer": "ipython3",
   "version": "3.9.7"
  }
 },
 "nbformat": 4,
 "nbformat_minor": 2
}

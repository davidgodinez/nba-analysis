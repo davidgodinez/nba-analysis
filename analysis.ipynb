{
 "cells": [
  {
   "cell_type": "code",
   "execution_count": null,
   "metadata": {},
   "outputs": [],
   "source": [
    "import nba_api\n",
    "from nba_api.stats.endpoints import leaguegamefinder\n",
    "\n"
   ]
  },
  {
   "cell_type": "code",
   "execution_count": 1,
   "metadata": {},
   "outputs": [
    {
     "name": "stdout",
     "output_type": "stream",
     "text": [
      "  SEASON_ID  Player_ID     Game_ID     GAME_DATE      MATCHUP WL  MIN  FGM  \\\n",
      "0     22023       2544  0022300848  FEB 28, 2024    LAL @ LAC  W   37   13   \n",
      "1     22023       2544  0022300818  FEB 25, 2024    LAL @ PHX  L   37   12   \n",
      "2     22023       2544  0022300813  FEB 23, 2024  LAL vs. SAS  W   34   13   \n",
      "3     22023       2544  0022300776  FEB 13, 2024  LAL vs. DET  W   31    9   \n",
      "4     22023       2544  0022300747  FEB 09, 2024  LAL vs. NOP  W   38    6   \n",
      "\n",
      "   FGA  FG_PCT  ...  DREB  REB  AST  STL  BLK  TOV  PF  PTS  PLUS_MINUS  \\\n",
      "0   21   0.619  ...     5    6    8    0    2    3   2   34          11   \n",
      "1   19   0.632  ...     6    7   12    2    1    3   3   28          -8   \n",
      "2   22   0.591  ...     6    7    9    1    0    2   0   30          21   \n",
      "3   15   0.600  ...     1    1    8    0    0    4   0   25           9   \n",
      "4   13   0.462  ...     3    4   14    1    1    2   2   21          15   \n",
      "\n",
      "   VIDEO_AVAILABLE  \n",
      "0                1  \n",
      "1                1  \n",
      "2                1  \n",
      "3                1  \n",
      "4                1  \n",
      "\n",
      "[5 rows x 27 columns]\n"
     ]
    }
   ],
   "source": [
    "from nba_api.stats.static import players\n",
    "from nba_api.stats.endpoints import playergamelog\n",
    "\n",
    "# Get player dictionary\n",
    "player_dict = players.get_players()\n",
    "\n",
    "# Find player by name\n",
    "lebron = [player for player in player_dict if player['full_name'] == 'LeBron James'][0]\n",
    "\n",
    "# Query player's game log (for a specific season, e.g., 2021-22)\n",
    "gamelog = playergamelog.PlayerGameLog(player_id=lebron['id'], season='2023')\n",
    "df = gamelog.get_data_frames()[0]\n",
    "\n",
    "print(df.head())\n"
   ]
  },
  {
   "cell_type": "markdown",
   "metadata": {},
   "source": [
    "## Seeing Average Points for the season"
   ]
  },
  {
   "cell_type": "code",
   "execution_count": 2,
   "metadata": {},
   "outputs": [
    {
     "name": "stdout",
     "output_type": "stream",
     "text": [
      "Los Angeles Lakers average points per game in 2023-24: 116.90\n"
     ]
    }
   ],
   "source": [
    "from nba_api.stats.static import teams\n",
    "from nba_api.stats.endpoints import teamgamelog\n",
    "import pandas as pd\n",
    "\n",
    "def get_team_id(team_name):\n",
    "    \"\"\"\n",
    "    Returns the team ID for a given team name.\n",
    "    \"\"\"\n",
    "    nba_teams = teams.get_teams()\n",
    "    for team in nba_teams:\n",
    "        if team['full_name'].lower() == team_name.lower():\n",
    "            return team['id']\n",
    "    return None\n",
    "\n",
    "def average_points_per_game(team_name, season):\n",
    "    \"\"\"\n",
    "    Prints the average points per game for a given team and season.\n",
    "    \"\"\"\n",
    "    team_id = get_team_id(team_name)\n",
    "    if team_id is None:\n",
    "        print(\"Team not found.\")\n",
    "        return\n",
    "    \n",
    "    game_log = teamgamelog.TeamGameLog(team_id=team_id, season=season)\n",
    "    game_log_df = game_log.get_data_frames()[0]\n",
    "    \n",
    "    # Calculate average points\n",
    "    average_points = game_log_df['PTS'].mean()\n",
    "    print(f\"{team_name} average points per game in {season}: {average_points:.2f}\")\n",
    "\n",
    "# Example usage\n",
    "team_name = input(\"Enter team name (e.g., 'Los Angeles Lakers'): \")\n",
    "season = input(\"Enter season (format YYYY-YY, e.g., '2021-22'): \")\n",
    "\n",
    "average_points_per_game(team_name, season)\n"
   ]
  },
  {
   "cell_type": "markdown",
   "metadata": {},
   "source": [
    "## Seeing average points scored against a specific team"
   ]
  },
  {
   "cell_type": "code",
   "execution_count": 4,
   "metadata": {},
   "outputs": [
    {
     "name": "stdout",
     "output_type": "stream",
     "text": [
      "Average points scored by Boston Celtics against Houston Rockets in 2023-24: 130.50\n",
      "Average points scored by Houston Rockets against Boston Celtics in 2023-24: 110.00\n"
     ]
    }
   ],
   "source": [
    "from nba_api.stats.endpoints import leaguegamefinder\n",
    "\n",
    "def average_points_against_team(team_name, opponent_team_name, season):\n",
    "    \"\"\"\n",
    "    Calculates and prints the average points per game for a given team against another team in a specified season.\n",
    "    \"\"\"\n",
    "    team_id = get_team_id(team_name)\n",
    "    opponent_team_id = get_team_id(opponent_team_name)\n",
    "    \n",
    "    if team_id is None or opponent_team_id is None:\n",
    "        print(\"One of the teams was not found.\")\n",
    "        return\n",
    "    \n",
    "    # Find games between the two teams\n",
    "    game_finder = leaguegamefinder.LeagueGameFinder(team_id_nullable=team_id, season_nullable=season)\n",
    "    games_df = game_finder.get_data_frames()[0]\n",
    "    \n",
    "    # Ensure correct team abbreviations are used\n",
    "    team_abbreviation = [team['abbreviation'] for team in teams.get_teams() if team['id'] == team_id][0]\n",
    "    opponent_team_abbreviation = [team['abbreviation'] for team in teams.get_teams() if team['id'] == opponent_team_id][0]\n",
    "    \n",
    "    # Filter games against the opponent team\n",
    "    games_against_opponent = games_df[games_df['MATCHUP'].str.contains(opponent_team_abbreviation)]\n",
    "    \n",
    "    # Calculate average points\n",
    "    if not games_against_opponent.empty:\n",
    "        average_points = games_against_opponent['PTS'].mean()\n",
    "        print(f\"Average points scored by {team_name} against {opponent_team_name} in {season}: {average_points:.2f}\")\n",
    "    else:\n",
    "        print(f\"No games found between {team_name} and {opponent_team_name} in {season}.\")\n",
    "\n",
    "# Example usage\n",
    "team_name = \"Boston Celtics\"\n",
    "opponent_team_name = \"Houston Rockets\"\n",
    "season = \"2023-24\"\n",
    "\n",
    "average_points_against_team(team_name, opponent_team_name, season)\n",
    "average_points_against_team(opponent_team_name, team_name, season)\n"
   ]
  },
  {
   "cell_type": "markdown",
   "metadata": {},
   "source": [
    "## Team Performance Metrics "
   ]
  },
  {
   "cell_type": "code",
   "execution_count": 5,
   "metadata": {},
   "outputs": [],
   "source": [
    "from nba_api.stats.static import teams\n",
    "from nba_api.stats.endpoints import teamyearbyyearstats, leaguedashteamstats\n",
    "\n",
    "import pandas as pd\n"
   ]
  },
  {
   "cell_type": "code",
   "execution_count": 6,
   "metadata": {},
   "outputs": [
    {
     "name": "stdout",
     "output_type": "stream",
     "text": [
      "Boston Celtics' Performance metrics:\n",
      "Points Per Game (PPG): 120.67\n",
      "Field Goal Percentage (FG%): 0.48\n",
      "3-Point Percentage (3P%): 0.38\n",
      "Free Throw Percentage (FT%): 0.81\n",
      "Rebounds Per Game (RPG): 47.07\n",
      "Assists Per Game (APG): 26.16\n",
      "Turnovers Per Game (TOPG): 12.50\n",
      "Steals Per Game (SPG): 6.47\n",
      "Blocks Per Game (BPG): 6.57\n",
      "Points Allowed Per Game (PAPG): 0.00\n"
     ]
    }
   ],
   "source": [
    "def get_team_performance_metrics(team_name, season):\n",
    "    # Fetching team stats for the given season\n",
    "    team_stats = leaguedashteamstats.LeagueDashTeamStats(season=season)\n",
    "    team_stats_df = team_stats.get_data_frames()[0]\n",
    "    \n",
    "    # Filter for the given team name\n",
    "    team_stats_row = team_stats_df[team_stats_df['TEAM_NAME'].str.lower() == team_name.lower()]\n",
    "    \n",
    "    if team_stats_row.empty:\n",
    "        print(f\"No data found for {team_name} in {season}.\")\n",
    "        return\n",
    "\n",
    "    games_played = team_stats_row['GP'].values[0]\n",
    "    total_points = team_stats_row['PTS'].values[0]\n",
    "    total_rebounds = team_stats_row['REB'].values[0]\n",
    "    total_assists = team_stats_row['AST'].values[0]\n",
    "    total_turnovers = team_stats_row['TOV'].values[0]\n",
    "    total_steals = team_stats_row['STL'].values[0]\n",
    "    total_blocks = team_stats_row['BLK'].values[0]\n",
    "    total_points_allowed = team_stats_row['PTS_AGAINST'].values[0] if 'PTS_AGAINST' in team_stats_row.columns else None\n",
    "\n",
    "    # Calculate the average stats per game\n",
    "    ppg = total_points / games_played if games_played else 0\n",
    "    rpg = total_rebounds / games_played if games_played else 0\n",
    "    apg = total_assists / games_played if games_played else 0\n",
    "    topg = total_turnovers / games_played if games_played else 0\n",
    "    spg = total_steals / games_played if games_played else 0\n",
    "    bpg = total_blocks / games_played if games_played else 0\n",
    "    papg = total_points_allowed / games_played if total_points_allowed and games_played else 0\n",
    "\n",
    "    metrics_dict = {\n",
    "        'Points Per Game (PPG)': ppg,\n",
    "        'Field Goal Percentage (FG%)': team_stats_row['FG_PCT'].values[0],\n",
    "        '3-Point Percentage (3P%)': team_stats_row['FG3_PCT'].values[0],\n",
    "        'Free Throw Percentage (FT%)': team_stats_row['FT_PCT'].values[0],\n",
    "        'Rebounds Per Game (RPG)': rpg,\n",
    "        'Assists Per Game (APG)': apg,\n",
    "        'Turnovers Per Game (TOPG)': topg,\n",
    "        'Steals Per Game (SPG)': spg,\n",
    "        'Blocks Per Game (BPG)': bpg,\n",
    "        'Points Allowed Per Game (PAPG)': papg,\n",
    "    }\n",
    "\n",
    "    return metrics_dict\n",
    "\n",
    "# Example usage\n",
    "team_name = input(\"Enter the team name (e.g., 'Los Angeles Lakers'): \")\n",
    "season = input(\"Enter the season (format YYYY-YY, e.g., '2023-24'): \")\n",
    "metrics = get_team_performance_metrics(team_name, season)\n",
    "print(f\"{team_name}' Performance metrics:\")\n",
    "if metrics:\n",
    "    for metric, value in metrics.items():\n",
    "        print(f\"{metric}: {value:.2f}\")\n"
   ]
  },
  {
   "cell_type": "markdown",
   "metadata": {},
   "source": [
    "To calculate advanced metrics such as Efficiency, Win Shares, Player Impact Estimate (PIE), Offensive and Defensive Ratings, and Pace, you will typically need detailed play-by-play data and box score statistics. Some of these metrics can be complex, as they require a combination of multiple statistical elements and sometimes proprietary formulas.\n",
    "\n",
    "Here's a brief overview of how you might approach each one:\n",
    "\n",
    "Efficiency (Team Efficiency Rating)\n",
    "Team Efficiency Rating is not an official NBA statistic and can vary depending on the formula you use. A simple version might be points scored minus points allowed, divided by possessions.\n",
    "\n",
    "Win Shares\n",
    "Win Shares is a player statistic that attempts to divvy up credit for team success to the individuals on the team. It's calculated using player, team, and league statistics and is quite complex. You may need to rely on a data provider to supply win shares unless you want to implement the full calculation yourself.\n",
    "\n",
    "Player Impact Estimate (PIE)\n",
    "PIE measures a player's overall statistical contribution against the total statistics in games they play in. The formula for PIE is as follows:\n",
    "\n",
    "plaintext\n",
    "Copy code\n",
    "PIE = (Player Stats) / (Team Stats + Opponent Stats)\n",
    "Each \"Player Stats\" and \"Team Stats\" category includes points, field goals made, free throws made, defensive rebounds, offensive rebounds, assists, steals, blocks, and turnovers.\n",
    "\n",
    "Offensive and Defensive Ratings\n",
    "These are estimates of a team's performance per 100 possessions.\n",
    "\n",
    "Offensive Rating (ORtg) is the number of points a team scores per 100 possessions.\n",
    "Defensive Rating (DRtg) is the number of points a team allows per 100 possessions.\n",
    "To calculate these, you typically need box score data and possession estimates.\n",
    "\n",
    "Pace\n",
    "Pace factor is an estimate of the number of possessions per 48 minutes by a team. A commonly used formula for pace is:\n",
    "\n",
    "plaintext\n",
    "Copy code\n",
    "Pace = 48 * ((Tm Poss + Opp Poss) / (2 * (Tm MP / 5)))\n",
    "Where:\n",
    "\n",
    "Tm Poss is an estimate of the team's possessions\n",
    "Opp Poss is an estimate of the opponent's possessions\n",
    "Tm MP is the minutes played, which is typically 240 for a regulation game\n",
    "To get these metrics using nba_api, you can use endpoints such as teamgamelog for game-by-game statistics, boxscoreadvancedv2 for advanced box scores, and leaguegamelog for league-wide game logs. However, due to the complexity and proprietary nature of some of these statistics, you may also want to consider paid data services that provide these metrics pre-calculated."
   ]
  },
  {
   "cell_type": "code",
   "execution_count": 7,
   "metadata": {},
   "outputs": [
    {
     "name": "stdout",
     "output_type": "stream",
     "text": [
      "{'Offensive Rating': 121.2, 'Defensive Rating': 110.6, 'Net Rating': 10.6, 'Pace': 98.74, 'Player Impact Estimate': 0.553}\n",
      "Boston Celtics' Advanced metrics:\n",
      "Offensive Rating: 121.20\n",
      "Defensive Rating: 110.60\n",
      "Net Rating: 10.60\n",
      "Pace: 98.74\n",
      "Player Impact Estimate: 0.55\n"
     ]
    }
   ],
   "source": [
    "from nba_api.stats.endpoints import teamdashboardbygeneralsplits\n",
    "\n",
    "def get_advanced_team_metrics(team_name, season):\n",
    "    # Get the team id\n",
    "    team_id = get_team_id(team_name)\n",
    "    \n",
    "    # Fetch the advanced team stats for the given season\n",
    "    team_advanced_stats = teamdashboardbygeneralsplits.TeamDashboardByGeneralSplits(team_id=team_id, season=season, measure_type_detailed_defense='Advanced')\n",
    "    team_advanced_stats_df = team_advanced_stats.get_data_frames()[0]\n",
    "    \n",
    "    # Extract the relevant metrics\n",
    "    metrics_dict = {\n",
    "        'Offensive Rating': team_advanced_stats_df['OFF_RATING'].values[0],\n",
    "        'Defensive Rating': team_advanced_stats_df['DEF_RATING'].values[0],\n",
    "        'Net Rating': team_advanced_stats_df['NET_RATING'].values[0],\n",
    "        'Pace': team_advanced_stats_df['PACE'].values[0],\n",
    "        'Player Impact Estimate': team_advanced_stats_df['PIE'].values[0]\n",
    "    }\n",
    "\n",
    "    return metrics_dict\n",
    "\n",
    "# Example usage\n",
    "# team_name = \"Houston Rockets\"  # For example\n",
    "# season = \"2023-24\"  # For example\n",
    "advanced_metrics = get_advanced_team_metrics(team_name, season)\n",
    "print(advanced_metrics)\n",
    "print(f\"{team_name}' Advanced metrics:\")\n",
    "if advanced_metrics:\n",
    "    for metric, value in advanced_metrics.items():\n",
    "        print(f\"{metric}: {value:.2f}\")\n"
   ]
  },
  {
   "cell_type": "markdown",
   "metadata": {},
   "source": []
  }
 ],
 "metadata": {
  "kernelspec": {
   "display_name": "venv",
   "language": "python",
   "name": "python3"
  },
  "language_info": {
   "codemirror_mode": {
    "name": "ipython",
    "version": 3
   },
   "file_extension": ".py",
   "mimetype": "text/x-python",
   "name": "python",
   "nbconvert_exporter": "python",
   "pygments_lexer": "ipython3",
   "version": "3.9.7"
  }
 },
 "nbformat": 4,
 "nbformat_minor": 2
}
